{
 "cells": [
  {
   "cell_type": "code",
   "execution_count": null,
   "metadata": {},
   "outputs": [],
   "source": [
    "import numpy as np\n",
    "import seaborn as sns\n",
    "import matplotlib.pyplot as plt\n",
    "import duckdb as db\n",
    "import pandas as pd\n",
    "# pd.set_option('display.max_rows', None)\n",
    "pd.set_option('display.max_columns', None)\n",
    "# pd.set_option('display.width', 2000)\n",
    "# pd.set_option('display.float_format', '{:20,.2f}'.format)\n",
    "# pd.set_option('display.max_colwidth', None)"
   ]
  },
  {
   "cell_type": "markdown",
   "metadata": {},
   "source": [
    "## Python and SQL - Workflow Analysis\n"
   ]
  },
  {
   "cell_type": "code",
   "execution_count": null,
   "metadata": {},
   "outputs": [],
   "source": [
    "df_StpFcEntries = pd.read_excel('Tech_Datasets2024\\StpFcEntries.xlsx')\n",
    "df_contractPaths = pd.read_excel('Tech_Datasets2024\\contractPaths.xlsx')\n",
    "df_WorkflowTaskInfo = pd.read_excel('Tech_Datasets2024\\WorkflowTaskInfo.xlsx')"
   ]
  },
  {
   "cell_type": "code",
   "execution_count": null,
   "metadata": {},
   "outputs": [],
   "source": [
    "df_WorkflowTaskInfo.head()"
   ]
  },
  {
   "cell_type": "code",
   "execution_count": null,
   "metadata": {},
   "outputs": [],
   "source": [
    "df_contractPaths.head()"
   ]
  },
  {
   "cell_type": "code",
   "execution_count": null,
   "metadata": {},
   "outputs": [],
   "source": [
    "# print(df_StpFcEntries.columns)\n",
    "df_StpFcEntries.head()"
   ]
  },
  {
   "cell_type": "markdown",
   "metadata": {},
   "source": [
    "### Q2\n",
    "\n",
    "#### Summarize the data by Family, Group and Type and output the number of contracts (not entries) that were processed by the contract workflow. "
   ]
  },
  {
   "cell_type": "markdown",
   "metadata": {},
   "source": [
    "Print the relevant columns:"
   ]
  },
  {
   "cell_type": "code",
   "execution_count": null,
   "metadata": {},
   "outputs": [],
   "source": [
    "df1 = df_StpFcEntries[['status_taken', 'fc_id', 'fc_cfamily', 'fc_cgroup', 'fc_ctype']]\n",
    "df1"
   ]
  },
  {
   "cell_type": "markdown",
   "metadata": {},
   "source": [
    "Find the entries that have been processed:"
   ]
  },
  {
   "cell_type": "code",
   "execution_count": null,
   "metadata": {},
   "outputs": [],
   "source": [
    "df1[df1['status_taken'].str.contains('Y')]"
   ]
  },
  {
   "cell_type": "markdown",
   "metadata": {},
   "source": [
    "Finding Unique Values in a Pandas Dataframe\n",
    "To find unique values in a Pandas dataframe, we can use the unique() function. This function returns an array of unique values in the dataframe. However, this function only returns unique values within a particular column or row. "
   ]
  },
  {
   "cell_type": "code",
   "execution_count": null,
   "metadata": {},
   "outputs": [],
   "source": [
    "unique_contracts = df1['fc_id'].unique()\n",
    "\n",
    "print(unique_contracts)\n",
    "print(\"Number of contracts processed by the contract workflow = \", len(unique_contracts))\n"
   ]
  },
  {
   "cell_type": "markdown",
   "metadata": {},
   "source": [
    "### Q3\n",
    "\n",
    "#### Output the following statistics per task:"
   ]
  },
  {
   "cell_type": "markdown",
   "metadata": {},
   "source": [
    "Q3a) Wait-time Average"
   ]
  },
  {
   "cell_type": "markdown",
   "metadata": {},
   "source": [
    "Q3a.1) First make a dataframe with the needed data:"
   ]
  },
  {
   "cell_type": "code",
   "execution_count": null,
   "metadata": {},
   "outputs": [],
   "source": [
    "df2 = df_StpFcEntries[['status_taken', 'wait_time', 'xmlflow_status']]\n",
    "df2 = df2[df2['status_taken'].str.contains('Y')]\n",
    "df2 = df2[['xmlflow_status', 'wait_time']]\n",
    "df2\n"
   ]
  },
  {
   "cell_type": "markdown",
   "metadata": {},
   "source": [
    "Q3a.2) Combine/Add the wait times of entries under the same task."
   ]
  },
  {
   "cell_type": "code",
   "execution_count": null,
   "metadata": {},
   "outputs": [],
   "source": [
    "# Add the wait times of the entries under the same task\n",
    "\n",
    "# To calculate the average we need to know the number of entries per task.\n",
    "# To do this create an extra column of 1s. This is done so that when the row with \n",
    "# the same task are added together, we can see how many entries there were per task.\n",
    "\n",
    "# Using DataFrame.insert() to add a column\n",
    "df2.insert(2, \"Ones\", np.ones(df2.shape[0]), True)\n",
    "print(df2.head())\n",
    "\n",
    "df_waitTimePerTask = df2.groupby('xmlflow_status').sum()\n",
    "df_waitTimePerTask"
   ]
  },
  {
   "cell_type": "markdown",
   "metadata": {},
   "source": [
    "Q3a.3) Calculate the Average wait time *per task*"
   ]
  },
  {
   "cell_type": "code",
   "execution_count": null,
   "metadata": {},
   "outputs": [],
   "source": [
    "df_AverageWaitTimePerTask = df_waitTimePerTask['wait_time']/df_waitTimePerTask['Ones']\n",
    "df_AverageWaitTimePerTask = df_AverageWaitTimePerTask.reset_index()\n",
    "df_AverageWaitTimePerTask = df_AverageWaitTimePerTask.rename(columns={0: 'Avg_Wait_Time'})\n",
    "df_AverageWaitTimePerTask"
   ]
  },
  {
   "cell_type": "markdown",
   "metadata": {},
   "source": [
    "plot histogram to view outliers"
   ]
  },
  {
   "cell_type": "code",
   "execution_count": null,
   "metadata": {},
   "outputs": [],
   "source": [
    "sns.histplot(x = 'Avg_Wait_Time', data=df_AverageWaitTimePerTask, bins=50)\n",
    "plt.show()"
   ]
  },
  {
   "cell_type": "markdown",
   "metadata": {},
   "source": [
    "Q3b) Max Wait time *per task*"
   ]
  },
  {
   "cell_type": "code",
   "execution_count": null,
   "metadata": {},
   "outputs": [],
   "source": [
    "df_MaxWaitTimePerTask = df2.groupby('xmlflow_status').max()\n",
    "\n",
    "df_MaxWaitTimePerTask = df_MaxWaitTimePerTask['wait_time']\n",
    "df_MaxWaitTimePerTask = df_MaxWaitTimePerTask.reset_index()\n",
    "df_MaxWaitTimePerTask = df_MaxWaitTimePerTask.rename(columns={'wait_time': 'Max_wait_time'})\n",
    "\n",
    "df_MaxWaitTimePerTask\n",
    "\n"
   ]
  },
  {
   "cell_type": "markdown",
   "metadata": {},
   "source": [
    "Q3c) Average Processing Time *per task*"
   ]
  },
  {
   "cell_type": "markdown",
   "metadata": {},
   "source": [
    "Q3c.1) First make a dataframe with the needed data:"
   ]
  },
  {
   "cell_type": "code",
   "execution_count": null,
   "metadata": {},
   "outputs": [],
   "source": [
    "df_processingTimes = df_StpFcEntries[['status_taken', 'proc_time', 'xmlflow_status']]\n",
    "df_processingTimes = df_processingTimes[df_processingTimes['status_taken'].str.contains('Y')]\n",
    "df_processingTimes = df_processingTimes[['xmlflow_status', 'proc_time']]\n",
    "df_processingTimes"
   ]
  },
  {
   "cell_type": "markdown",
   "metadata": {},
   "source": [
    "Q3c.2) Combine/Add the Processing times of entries under the same task."
   ]
  },
  {
   "cell_type": "code",
   "execution_count": null,
   "metadata": {},
   "outputs": [],
   "source": [
    "# Add the processing times of the entries under the same task\n",
    "\n",
    "# To calculate the average we need to know the number of entries per task.\n",
    "# To do this create an extra column of 1s. This is done so that when rows with \n",
    "# the same task number are added together, the ones will be added together and we can see how many entries there were per task.\n",
    "\n",
    "# Using DataFrame.insert() to add a column\n",
    "df_processingTimes.insert(2, \"Ones\", np.ones(df_processingTimes.shape[0]), True)\n",
    "print(df_processingTimes.head())\n",
    "\n",
    "df_ProcTimePerTask = df_processingTimes.groupby('xmlflow_status').sum()\n",
    "df_ProcTimePerTask = df_ProcTimePerTask.reset_index()\n",
    "df_ProcTimePerTask"
   ]
  },
  {
   "cell_type": "markdown",
   "metadata": {},
   "source": [
    "Q3c.3) Calculate the Average proc time *per task*"
   ]
  },
  {
   "cell_type": "code",
   "execution_count": null,
   "metadata": {},
   "outputs": [],
   "source": [
    "df_AverageProcTimePerTask = df_ProcTimePerTask\n",
    "df_AverageProcTimePerTask['avg_proc_time'] = df_AverageProcTimePerTask['proc_time']/df_AverageProcTimePerTask['Ones']\n",
    "df_AverageProcTimePerTask"
   ]
  },
  {
   "cell_type": "markdown",
   "metadata": {},
   "source": [
    "Q3d) Processing Time Max"
   ]
  },
  {
   "cell_type": "code",
   "execution_count": null,
   "metadata": {},
   "outputs": [],
   "source": [
    "df_MaxProcTimePerTask = df_ProcTimePerTask[['xmlflow_status', 'proc_time']]\n",
    "df_MaxProcTimePerTask = df_MaxProcTimePerTask.groupby('xmlflow_status').max()\n",
    "df_MaxProcTimePerTask = df_MaxProcTimePerTask.rename(columns={'proc_time': 'max_proc_time'})\n",
    "df_MaxProcTimePerTask = df_MaxProcTimePerTask.reset_index()\n",
    "\n",
    "df_MaxProcTimePerTask"
   ]
  },
  {
   "cell_type": "markdown",
   "metadata": {},
   "source": [
    "Q3e) Throughput (per second)"
   ]
  },
  {
   "cell_type": "markdown",
   "metadata": {},
   "source": [
    "The Throughput(per second) per task was calculated by 1/the average processing time per task \n",
    "\n",
    "Frequency = 1/Period\n",
    "\n",
    "Throughput = 1/Average proc time per task\n"
   ]
  },
  {
   "cell_type": "code",
   "execution_count": null,
   "metadata": {},
   "outputs": [],
   "source": [
    "df_ThroughputPerTask = 1/(df_AverageProcTimePerTask/1000)\n",
    "df_ThroughputPerTask"
   ]
  },
  {
   "cell_type": "markdown",
   "metadata": {},
   "source": [
    "Q3f) Throughput (per minute)"
   ]
  },
  {
   "cell_type": "code",
   "execution_count": null,
   "metadata": {},
   "outputs": [],
   "source": [
    "df_ThroughputPerTask_PerMinute = df_ThroughputPerTask*60\n",
    "df_ThroughputPerTask_PerMinute\n"
   ]
  },
  {
   "cell_type": "markdown",
   "metadata": {},
   "source": [
    "Q3g) Latency (per second)"
   ]
  },
  {
   "cell_type": "markdown",
   "metadata": {},
   "source": [
    "Q3g.1) First make a dataframe with the needed data:"
   ]
  },
  {
   "cell_type": "code",
   "execution_count": null,
   "metadata": {},
   "outputs": [],
   "source": [
    "df_Throughput = df_StpFcEntries[['status_taken', 'xmlflow_status', 'wait_time', 'proc_time']]\n",
    "df_Throughput = df_Throughput[df_Throughput['status_taken'].str.contains('Y')]\n",
    "df_Throughput = df_Throughput[['xmlflow_status', 'wait_time', 'proc_time']]\n",
    "df_Throughput"
   ]
  },
  {
   "cell_type": "markdown",
   "metadata": {},
   "source": [
    "Q3g.2) Combine/Add the Processing and Wait times of entries under the same task."
   ]
  },
  {
   "cell_type": "code",
   "execution_count": null,
   "metadata": {},
   "outputs": [],
   "source": [
    "df_ProcAndWaitTimePerTask = df_Throughput.groupby('xmlflow_status').sum()\n",
    "df_ProcAndWaitTimePerTask"
   ]
  },
  {
   "cell_type": "markdown",
   "metadata": {},
   "source": [
    "Q3g.3) Latency (per second)"
   ]
  },
  {
   "cell_type": "code",
   "execution_count": null,
   "metadata": {},
   "outputs": [],
   "source": [
    "df_LatencyPerTask = df_ProcAndWaitTimePerTask['wait_time'] + df_ProcAndWaitTimePerTask['proc_time']\n",
    "df_LatencyPerTask = df_LatencyPerTask.reset_index()\n",
    "df_LatencyPerTask = df_LatencyPerTask.rename(columns = {0:'latency'})\n",
    "\n",
    "df_LatencyPerTask['xmlflow_status'] = df_LatencyPerTask['xmlflow_status'].astype(str)\n",
    "df_LatencyPerTask"
   ]
  },
  {
   "cell_type": "markdown",
   "metadata": {},
   "source": [
    "##### Q4\n",
    "\n",
    "Graphically show how many entries are waiting to be processed by each task in a bar chart. \n",
    "\n"
   ]
  },
  {
   "cell_type": "code",
   "execution_count": null,
   "metadata": {},
   "outputs": [],
   "source": [
    "df3 = df_StpFcEntries[['xmlflow_status', 'status_taken']]\n",
    "df3 = df3[df3['status_taken'].str.contains('N')]\n",
    "\n",
    "df3.insert(2, \"Ones\", np.ones(df3.shape[0]), True)\n",
    "\n",
    "print(df3)\n",
    "\n",
    "\n",
    "df3 = df3.groupby('xmlflow_status').sum()\n",
    "df3 = df3.drop('status_taken', axis=1)\n",
    "df3 = df3.reset_index()\n",
    "\n",
    "df3"
   ]
  },
  {
   "cell_type": "code",
   "execution_count": null,
   "metadata": {},
   "outputs": [],
   "source": [
    "df3['xmlflow_status'] = df3['xmlflow_status'].astype(str)\n",
    "\n",
    "\n",
    "# Plot entries waiting to be processed\n",
    "sns.barplot(x='Ones', y='xmlflow_status', data=df3, color=\"b\")"
   ]
  },
  {
   "cell_type": "markdown",
   "metadata": {},
   "source": [
    "##### Q5\n",
    "\n",
    "Graphically display the top five tasks in terms of processing time in a line graph for the last week. \n",
    "\n"
   ]
  },
  {
   "cell_type": "code",
   "execution_count": null,
   "metadata": {},
   "outputs": [],
   "source": [
    "df4 = df_MaxProcTimePerTask\n",
    "df4 = df4.sort_values('max_proc_time', ascending=False)\n",
    "\n",
    "df4 = df4.head(5)\n",
    "\n",
    "df4\n"
   ]
  },
  {
   "cell_type": "code",
   "execution_count": null,
   "metadata": {},
   "outputs": [],
   "source": [
    "df4['xmlflow_status'] = df4['xmlflow_status'].astype(str)\n",
    "\n",
    "sns.lineplot(y='max_proc_time', x='xmlflow_status', data=df4, color=\"b\")"
   ]
  },
  {
   "cell_type": "markdown",
   "metadata": {},
   "source": [
    "##### Q6\n",
    "\n",
    "Write code to track the path of a contract in the workflow.\n",
    "\n"
   ]
  },
  {
   "cell_type": "code",
   "execution_count": null,
   "metadata": {},
   "outputs": [],
   "source": [
    "df5 = df_StpFcEntries[['ts_time_long', 'status_taken', 'fc_id', 'xmlflow_status', 'fc_cfamily', 'fc_cgroup', 'fc_ctype']]\n",
    "df5 = df5[df5['status_taken'].str.contains('Y')]\n",
    "df5 = df5.sort_values('fc_id')\n",
    "df5 "
   ]
  },
  {
   "cell_type": "code",
   "execution_count": null,
   "metadata": {},
   "outputs": [],
   "source": [
    "df_fc_id = pd.read_excel('Tech_Datasets2024\\contractPaths.xlsx')\n",
    "df_fc_id = df_fc_id['fc_id']\n",
    "\n",
    "\n",
    "for i in df_fc_id:\n",
    "    print(\"\")\n",
    "    selected_rows = df5.loc[df5['fc_id'] == i]\n",
    "    selected_rows = selected_rows.sort_values('ts_time_long')\n",
    "    selected_rows\n",
    "    family = selected_rows.iloc[0]['fc_cfamily']\n",
    "    group = selected_rows.iloc[0]['fc_cgroup']\n",
    "    print(\"Contract\", i, \"|\", family, \"|\", group, \":\", end=\"\")\n",
    "    for j in selected_rows['xmlflow_status']:\n",
    "        print(j, end=\"->\")"
   ]
  },
  {
   "cell_type": "markdown",
   "metadata": {},
   "source": [
    "#### Q7) Data Analysis"
   ]
  },
  {
   "cell_type": "markdown",
   "metadata": {},
   "source": [
    "Q7a.1) First make a dataframe with the needed data:"
   ]
  },
  {
   "cell_type": "code",
   "execution_count": null,
   "metadata": {},
   "outputs": [],
   "source": [
    "df6 = df_StpFcEntries[['status_taken', 'proc_time', 'xmlflow_status', 'fc_ctype']]\n",
    "df6 = df6[df6['status_taken'].str.contains('Y')]\n",
    "df6 = df6[['fc_ctype', 'proc_time']]\n",
    "df6"
   ]
  },
  {
   "cell_type": "markdown",
   "metadata": {},
   "source": [
    "Q7a.2) Calculate the mean proc time per group:"
   ]
  },
  {
   "cell_type": "code",
   "execution_count": null,
   "metadata": {},
   "outputs": [],
   "source": [
    "df6 = df6.groupby('fc_ctype').mean()\n",
    "df6 = df6.reset_index()\n",
    "df6\n"
   ]
  },
  {
   "cell_type": "code",
   "execution_count": null,
   "metadata": {},
   "outputs": [],
   "source": [
    "df6 = df6.sort_values('proc_time', ascending=False)\n",
    "df6"
   ]
  },
  {
   "cell_type": "code",
   "execution_count": null,
   "metadata": {},
   "outputs": [],
   "source": [
    "df6 = df6.head(3)\n",
    "df6['fc_ctype'] = df6['fc_ctype'].astype(str)\n",
    "df6\n",
    "\n",
    "sns.barplot(y='proc_time', x='fc_ctype', data=df6, color=\"b\")"
   ]
  },
  {
   "cell_type": "markdown",
   "metadata": {},
   "source": [
    "Q7b) Are there any tasks with bottlenecks?"
   ]
  },
  {
   "cell_type": "markdown",
   "metadata": {},
   "source": [
    "Yes as there are many entries with status_taken field as 'N'. This means that we need to count the number of 'N's per task to see the number of entries backlogged per task.\n",
    "Assumption: The term \"bottlenecks\" refers to the amount of entries backlogged per task."
   ]
  },
  {
   "cell_type": "code",
   "execution_count": null,
   "metadata": {},
   "outputs": [],
   "source": [
    "df7 = df_StpFcEntries[['xmlflow_status', 'status_taken']]\n",
    "df7 = df7[df7['status_taken'].str.contains('N')]\n",
    "\n",
    "# Using DataFrame.insert() to add a column\n",
    "df7.insert(2, \"Ones\", np.ones(df7.shape[0]), True)\n",
    "\n",
    "df7 = df7[['xmlflow_status', 'Ones']]\n",
    "\n",
    "df7 = df7.groupby('xmlflow_status').sum()\n",
    "df7 = df7.sort_values('Ones', ascending=False)\n",
    "\n",
    "df7"
   ]
  },
  {
   "cell_type": "code",
   "execution_count": null,
   "metadata": {},
   "outputs": [],
   "source": [
    "df7 = df7.reset_index()\n",
    "df7['xmlflow_status'] = df7['xmlflow_status'].astype(str)\n",
    "df7\n",
    "\n",
    "sns.barplot(y='Ones', x='xmlflow_status', data=df7, color=\"b\")"
   ]
  },
  {
   "cell_type": "markdown",
   "metadata": {},
   "source": [
    "##### Q7c) Assume that the traders want to increase the volumes of FX Spot trades – the goals is to process 100 000 trades using a batch upload. "
   ]
  },
  {
   "cell_type": "markdown",
   "metadata": {},
   "source": [
    "Q7ci) Estimate how long it might take to process all the trades in the workflow? "
   ]
  },
  {
   "cell_type": "code",
   "execution_count": 84,
   "metadata": {},
   "outputs": [
    {
     "data": {
      "text/html": [
       "<div>\n",
       "<style scoped>\n",
       "    .dataframe tbody tr th:only-of-type {\n",
       "        vertical-align: middle;\n",
       "    }\n",
       "\n",
       "    .dataframe tbody tr th {\n",
       "        vertical-align: top;\n",
       "    }\n",
       "\n",
       "    .dataframe thead th {\n",
       "        text-align: right;\n",
       "    }\n",
       "</style>\n",
       "<table border=\"1\" class=\"dataframe\">\n",
       "  <thead>\n",
       "    <tr style=\"text-align: right;\">\n",
       "      <th></th>\n",
       "      <th>proc_time</th>\n",
       "      <th>status_taken</th>\n",
       "      <th>fc_typology</th>\n",
       "    </tr>\n",
       "  </thead>\n",
       "  <tbody>\n",
       "    <tr>\n",
       "      <th>937</th>\n",
       "      <td>4</td>\n",
       "      <td>Y</td>\n",
       "      <td>Spot</td>\n",
       "    </tr>\n",
       "    <tr>\n",
       "      <th>945</th>\n",
       "      <td>6</td>\n",
       "      <td>Y</td>\n",
       "      <td>Spot</td>\n",
       "    </tr>\n",
       "    <tr>\n",
       "      <th>950</th>\n",
       "      <td>5</td>\n",
       "      <td>Y</td>\n",
       "      <td>Spot</td>\n",
       "    </tr>\n",
       "    <tr>\n",
       "      <th>955</th>\n",
       "      <td>6</td>\n",
       "      <td>Y</td>\n",
       "      <td>Spot</td>\n",
       "    </tr>\n",
       "    <tr>\n",
       "      <th>960</th>\n",
       "      <td>4</td>\n",
       "      <td>Y</td>\n",
       "      <td>Spot</td>\n",
       "    </tr>\n",
       "    <tr>\n",
       "      <th>...</th>\n",
       "      <td>...</td>\n",
       "      <td>...</td>\n",
       "      <td>...</td>\n",
       "    </tr>\n",
       "    <tr>\n",
       "      <th>34479</th>\n",
       "      <td>1</td>\n",
       "      <td>Y</td>\n",
       "      <td>Spot</td>\n",
       "    </tr>\n",
       "    <tr>\n",
       "      <th>34480</th>\n",
       "      <td>1</td>\n",
       "      <td>Y</td>\n",
       "      <td>Spot</td>\n",
       "    </tr>\n",
       "    <tr>\n",
       "      <th>34481</th>\n",
       "      <td>5</td>\n",
       "      <td>Y</td>\n",
       "      <td>Spot</td>\n",
       "    </tr>\n",
       "    <tr>\n",
       "      <th>34487</th>\n",
       "      <td>5</td>\n",
       "      <td>Y</td>\n",
       "      <td>Spot</td>\n",
       "    </tr>\n",
       "    <tr>\n",
       "      <th>34488</th>\n",
       "      <td>6</td>\n",
       "      <td>Y</td>\n",
       "      <td>Spot</td>\n",
       "    </tr>\n",
       "  </tbody>\n",
       "</table>\n",
       "<p>3019 rows × 3 columns</p>\n",
       "</div>"
      ],
      "text/plain": [
       "       proc_time status_taken fc_typology\n",
       "937            4            Y        Spot\n",
       "945            6            Y        Spot\n",
       "950            5            Y        Spot\n",
       "955            6            Y        Spot\n",
       "960            4            Y        Spot\n",
       "...          ...          ...         ...\n",
       "34479          1            Y        Spot\n",
       "34480          1            Y        Spot\n",
       "34481          5            Y        Spot\n",
       "34487          5            Y        Spot\n",
       "34488          6            Y        Spot\n",
       "\n",
       "[3019 rows x 3 columns]"
      ]
     },
     "execution_count": 84,
     "metadata": {},
     "output_type": "execute_result"
    }
   ],
   "source": [
    "df8 = df_StpFcEntries[['proc_time', 'status_taken', 'fc_typology']]\n",
    "df8 = df8[df8['status_taken'].str.contains('Y')]\n",
    "df8 = df8[df8['fc_typology'].str.contains('Spot')]\n",
    "df8"
   ]
  },
  {
   "cell_type": "code",
   "execution_count": null,
   "metadata": {},
   "outputs": [
    {
     "name": "stdout",
     "output_type": "stream",
     "text": [
      "Average processing time =  24.404107320304735 seconds\n",
      "Average processing time for 100000 trades =  24404.107320304734 seconds\n"
     ]
    }
   ],
   "source": [
    "df8 = df8[['proc_time']]\n",
    "avgProcTime = df8.mean().values[0]\n",
    "print(\"Average processing time = \", avgProcTime, \"seconds\")\n",
    "print(\"Average processing time for 100000 trades = \", avgProcTime*1000, \"seconds\")"
   ]
  },
  {
   "cell_type": "code",
   "execution_count": null,
   "metadata": {},
   "outputs": [],
   "source": []
  }
 ],
 "metadata": {
  "kernelspec": {
   "display_name": "Python3_11_7",
   "language": "python",
   "name": "python3"
  },
  "language_info": {
   "codemirror_mode": {
    "name": "ipython",
    "version": 3
   },
   "file_extension": ".py",
   "mimetype": "text/x-python",
   "name": "python",
   "nbconvert_exporter": "python",
   "pygments_lexer": "ipython3",
   "version": "3.11.5"
  }
 },
 "nbformat": 4,
 "nbformat_minor": 2
}
